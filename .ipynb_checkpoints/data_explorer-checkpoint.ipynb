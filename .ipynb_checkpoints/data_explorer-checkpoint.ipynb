{
 "cells": [
  {
   "cell_type": "code",
   "execution_count": 18,
   "id": "ea065d88",
   "metadata": {},
   "outputs": [],
   "source": [
    "import pandas as pd\n",
    "import seaborn as sns"
   ]
  },
  {
   "cell_type": "code",
   "execution_count": 11,
   "id": "3ad76700",
   "metadata": {},
   "outputs": [],
   "source": [
    "WHO_COVID_19_global_data = pd.read_csv('mined_csv_data/WHO_COVID_19_global_data.csv')"
   ]
  },
  {
   "cell_type": "code",
   "execution_count": 16,
   "id": "3bd8d8ca",
   "metadata": {},
   "outputs": [
    {
     "data": {
      "text/plain": [
       "(145395, 9)"
      ]
     },
     "execution_count": 16,
     "metadata": {},
     "output_type": "execute_result"
    }
   ],
   "source": [
    "WHO_COVID_19_global_data.shape"
   ]
  },
  {
   "cell_type": "code",
   "execution_count": 12,
   "id": "69202fba",
   "metadata": {},
   "outputs": [
    {
     "data": {
      "text/plain": [
       "Unnamed: 0            int64\n",
       "Date_reported        object\n",
       "Country_code         object\n",
       "Country              object\n",
       "WHO_region           object\n",
       "New_cases             int64\n",
       "Cumulative_cases      int64\n",
       "New_deaths            int64\n",
       "Cumulative_deaths     int64\n",
       "dtype: object"
      ]
     },
     "execution_count": 12,
     "metadata": {},
     "output_type": "execute_result"
    }
   ],
   "source": [
    "WHO_COVID_19_global_data.dtypes"
   ]
  },
  {
   "cell_type": "code",
   "execution_count": 13,
   "id": "84d0e892",
   "metadata": {},
   "outputs": [
    {
     "data": {
      "text/html": [
       "<div>\n",
       "<style scoped>\n",
       "    .dataframe tbody tr th:only-of-type {\n",
       "        vertical-align: middle;\n",
       "    }\n",
       "\n",
       "    .dataframe tbody tr th {\n",
       "        vertical-align: top;\n",
       "    }\n",
       "\n",
       "    .dataframe thead th {\n",
       "        text-align: right;\n",
       "    }\n",
       "</style>\n",
       "<table border=\"1\" class=\"dataframe\">\n",
       "  <thead>\n",
       "    <tr style=\"text-align: right;\">\n",
       "      <th></th>\n",
       "      <th>count</th>\n",
       "      <th>mean</th>\n",
       "      <th>std</th>\n",
       "      <th>min</th>\n",
       "      <th>25%</th>\n",
       "      <th>50%</th>\n",
       "      <th>75%</th>\n",
       "      <th>max</th>\n",
       "    </tr>\n",
       "  </thead>\n",
       "  <tbody>\n",
       "    <tr>\n",
       "      <th>Unnamed: 0</th>\n",
       "      <td>145395.0</td>\n",
       "      <td>72697.000000</td>\n",
       "      <td>4.197207e+04</td>\n",
       "      <td>0.0</td>\n",
       "      <td>36348.5</td>\n",
       "      <td>72697.0</td>\n",
       "      <td>109045.5</td>\n",
       "      <td>145394.0</td>\n",
       "    </tr>\n",
       "    <tr>\n",
       "      <th>New_cases</th>\n",
       "      <td>145395.0</td>\n",
       "      <td>1519.342742</td>\n",
       "      <td>9.561092e+03</td>\n",
       "      <td>-32952.0</td>\n",
       "      <td>0.0</td>\n",
       "      <td>11.0</td>\n",
       "      <td>350.0</td>\n",
       "      <td>414188.0</td>\n",
       "    </tr>\n",
       "    <tr>\n",
       "      <th>Cumulative_cases</th>\n",
       "      <td>145395.0</td>\n",
       "      <td>312340.723938</td>\n",
       "      <td>1.866923e+06</td>\n",
       "      <td>0.0</td>\n",
       "      <td>31.0</td>\n",
       "      <td>3945.0</td>\n",
       "      <td>72308.5</td>\n",
       "      <td>39795201.0</td>\n",
       "    </tr>\n",
       "    <tr>\n",
       "      <th>New_deaths</th>\n",
       "      <td>145395.0</td>\n",
       "      <td>31.438124</td>\n",
       "      <td>1.708808e+02</td>\n",
       "      <td>-60.0</td>\n",
       "      <td>0.0</td>\n",
       "      <td>0.0</td>\n",
       "      <td>5.0</td>\n",
       "      <td>8786.0</td>\n",
       "    </tr>\n",
       "    <tr>\n",
       "      <th>Cumulative_deaths</th>\n",
       "      <td>145395.0</td>\n",
       "      <td>7269.544242</td>\n",
       "      <td>3.699574e+04</td>\n",
       "      <td>0.0</td>\n",
       "      <td>0.0</td>\n",
       "      <td>62.0</td>\n",
       "      <td>1188.0</td>\n",
       "      <td>643757.0</td>\n",
       "    </tr>\n",
       "  </tbody>\n",
       "</table>\n",
       "</div>"
      ],
      "text/plain": [
       "                      count           mean           std      min      25%  \\\n",
       "Unnamed: 0         145395.0   72697.000000  4.197207e+04      0.0  36348.5   \n",
       "New_cases          145395.0    1519.342742  9.561092e+03 -32952.0      0.0   \n",
       "Cumulative_cases   145395.0  312340.723938  1.866923e+06      0.0     31.0   \n",
       "New_deaths         145395.0      31.438124  1.708808e+02    -60.0      0.0   \n",
       "Cumulative_deaths  145395.0    7269.544242  3.699574e+04      0.0      0.0   \n",
       "\n",
       "                       50%       75%         max  \n",
       "Unnamed: 0         72697.0  109045.5    145394.0  \n",
       "New_cases             11.0     350.0    414188.0  \n",
       "Cumulative_cases    3945.0   72308.5  39795201.0  \n",
       "New_deaths             0.0       5.0      8786.0  \n",
       "Cumulative_deaths     62.0    1188.0    643757.0  "
      ]
     },
     "execution_count": 13,
     "metadata": {},
     "output_type": "execute_result"
    }
   ],
   "source": [
    "WHO_COVID_19_global_data.describe().T"
   ]
  },
  {
   "cell_type": "code",
   "execution_count": 14,
   "id": "5d0e0d17",
   "metadata": {},
   "outputs": [
    {
     "data": {
      "text/html": [
       "<div>\n",
       "<style scoped>\n",
       "    .dataframe tbody tr th:only-of-type {\n",
       "        vertical-align: middle;\n",
       "    }\n",
       "\n",
       "    .dataframe tbody tr th {\n",
       "        vertical-align: top;\n",
       "    }\n",
       "\n",
       "    .dataframe thead th {\n",
       "        text-align: right;\n",
       "    }\n",
       "</style>\n",
       "<table border=\"1\" class=\"dataframe\">\n",
       "  <thead>\n",
       "    <tr style=\"text-align: right;\">\n",
       "      <th></th>\n",
       "      <th>Unnamed: 0</th>\n",
       "      <th>Date_reported</th>\n",
       "      <th>Country_code</th>\n",
       "      <th>Country</th>\n",
       "      <th>WHO_region</th>\n",
       "      <th>New_cases</th>\n",
       "      <th>Cumulative_cases</th>\n",
       "      <th>New_deaths</th>\n",
       "      <th>Cumulative_deaths</th>\n",
       "    </tr>\n",
       "  </thead>\n",
       "  <tbody>\n",
       "    <tr>\n",
       "      <th>0</th>\n",
       "      <td>0</td>\n",
       "      <td>2020-01-03</td>\n",
       "      <td>AF</td>\n",
       "      <td>Afghanistan</td>\n",
       "      <td>EMRO</td>\n",
       "      <td>0</td>\n",
       "      <td>0</td>\n",
       "      <td>0</td>\n",
       "      <td>0</td>\n",
       "    </tr>\n",
       "    <tr>\n",
       "      <th>1</th>\n",
       "      <td>1</td>\n",
       "      <td>2020-01-04</td>\n",
       "      <td>AF</td>\n",
       "      <td>Afghanistan</td>\n",
       "      <td>EMRO</td>\n",
       "      <td>0</td>\n",
       "      <td>0</td>\n",
       "      <td>0</td>\n",
       "      <td>0</td>\n",
       "    </tr>\n",
       "  </tbody>\n",
       "</table>\n",
       "</div>"
      ],
      "text/plain": [
       "   Unnamed: 0 Date_reported Country_code      Country WHO_region  New_cases  \\\n",
       "0           0    2020-01-03           AF  Afghanistan       EMRO          0   \n",
       "1           1    2020-01-04           AF  Afghanistan       EMRO          0   \n",
       "\n",
       "   Cumulative_cases  New_deaths  Cumulative_deaths  \n",
       "0                 0           0                  0  \n",
       "1                 0           0                  0  "
      ]
     },
     "execution_count": 14,
     "metadata": {},
     "output_type": "execute_result"
    }
   ],
   "source": [
    "WHO_COVID_19_global_data.head(2)"
   ]
  },
  {
   "cell_type": "markdown",
   "id": "76345d20",
   "metadata": {},
   "source": [
    "### DTYPE SETUP"
   ]
  },
  {
   "cell_type": "code",
   "execution_count": 15,
   "id": "40a886fe",
   "metadata": {},
   "outputs": [],
   "source": [
    "WHO_COVID_19_global_data.Date_reported = pd.to_datetime(WHO_COVID_19_global_data.Date_reported)"
   ]
  },
  {
   "cell_type": "code",
   "execution_count": null,
   "id": "43e28cf2",
   "metadata": {},
   "outputs": [],
   "source": []
  },
  {
   "cell_type": "code",
   "execution_count": 48,
   "id": "b0e5d06e",
   "metadata": {},
   "outputs": [],
   "source": [
    "# Get top 10 countries based on total new cases\n",
    "top_10_countries = WHO_COVID_19_global_data.groupby(['Country']).sum().sort_values(by = 'New_cases'\n",
    "                                                                , ascending=False).index[:10].to_list()"
   ]
  }
 ],
 "metadata": {
  "kernelspec": {
   "display_name": "Python 3",
   "language": "python",
   "name": "python3"
  },
  "language_info": {
   "codemirror_mode": {
    "name": "ipython",
    "version": 3
   },
   "file_extension": ".py",
   "mimetype": "text/x-python",
   "name": "python",
   "nbconvert_exporter": "python",
   "pygments_lexer": "ipython3",
   "version": "3.8.8"
  }
 },
 "nbformat": 4,
 "nbformat_minor": 5
}
